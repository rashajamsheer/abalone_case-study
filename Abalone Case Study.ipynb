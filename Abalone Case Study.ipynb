{
 "cells": [
  {
   "cell_type": "markdown",
   "metadata": {},
   "source": [
    "# Abalone Case study"
   ]
  },
  {
   "cell_type": "markdown",
   "metadata": {},
   "source": [
    "This is the dataset for the prediction of age of abalone.It is a regression type problem.\n",
    "\n",
    "Data Description:\n",
    "\n",
    "Number of instances: 4177\n",
    "\n",
    "Number of attributes: 8\n",
    "\n",
    "Features: Sex, Length, Diameter, Height, Whole weight, Shucked weight, Viscera weight,\n",
    "and Shell weight\n",
    "\n",
    "Target: Rings\n",
    "\n",
    "\n",
    "           The age of abalone is determined by cutting the shell through the cone, staining it, and counting the number of rings through a microscope a boring and time-consuming task.Solution for the issue is Create a machine learning algorithm that will predict the age of an abalone from physical measurements only.\n",
    "\n",
    "Dataset information:\n",
    "    \n",
    "    Sex: nominal - M (male), F (female), I (infant)\n",
    "        \n",
    "    Length: continuous - longest shell measurement (in mm)\n",
    "    \n",
    "    Diameter: continuous - measurement perpendicular to legnth (in mm)\n",
    "    \n",
    "    Height: continuous - with meat in shell (in mm)\n",
    "        \n",
    "    Whole weight: continuous - the whole abalone (in grams)\n",
    "    \n",
    "    Shucked weight: continuous - weight of the meat (in grams)\n",
    "        \n",
    "    Viscera weight: continuous - gut weight after bleeding (in grams)\n",
    "    \n",
    "    Shell weight: continuous - after being dried (in grams)\n",
    "        \n",
    "    Rings: integer - +1.5 gives the age in years\n",
    "    \n",
    "    "
   ]
  },
  {
   "cell_type": "markdown",
   "metadata": {},
   "source": [
    "# Import Librairies"
   ]
  },
  {
   "cell_type": "code",
   "execution_count": 389,
   "metadata": {},
   "outputs": [],
   "source": [
    "import pandas as pd\n",
    "import numpy as np\n",
    "import matplotlib.pyplot as plt\n",
    "import seaborn as sns\n",
    "from scipy import stats\n",
    "import pylab\n",
    "from scipy.stats import zscore\n",
    "from sklearn.preprocessing import StandardScaler\n",
    "from sklearn.metrics import r2_score\n",
    "from sklearn.model_selection import train_test_split\n",
    "from sklearn.linear_model import LinearRegression\n",
    "from sklearn.svm import SVR\n",
    "from sklearn.ensemble import RandomForestRegressor\n",
    "from sklearn.neighbors import KNeighborsRegressor\n",
    "from sklearn.model_selection import cross_val_score\n",
    "from sklearn.model_selection import GridSearchCV\n",
    "import warnings\n",
    "warnings.filterwarnings('ignore')"
   ]
  },
  {
   "cell_type": "code",
   "execution_count": 390,
   "metadata": {},
   "outputs": [
    {
     "data": {
      "text/html": [
       "<div>\n",
       "<style scoped>\n",
       "    .dataframe tbody tr th:only-of-type {\n",
       "        vertical-align: middle;\n",
       "    }\n",
       "\n",
       "    .dataframe tbody tr th {\n",
       "        vertical-align: top;\n",
       "    }\n",
       "\n",
       "    .dataframe thead th {\n",
       "        text-align: right;\n",
       "    }\n",
       "</style>\n",
       "<table border=\"1\" class=\"dataframe\">\n",
       "  <thead>\n",
       "    <tr style=\"text-align: right;\">\n",
       "      <th></th>\n",
       "      <th>Sex</th>\n",
       "      <th>Length</th>\n",
       "      <th>Diameter</th>\n",
       "      <th>Height</th>\n",
       "      <th>Whole weight</th>\n",
       "      <th>Shucked weight</th>\n",
       "      <th>Viscera weight</th>\n",
       "      <th>Shell weight</th>\n",
       "      <th>Rings</th>\n",
       "    </tr>\n",
       "  </thead>\n",
       "  <tbody>\n",
       "    <tr>\n",
       "      <th>0</th>\n",
       "      <td>M</td>\n",
       "      <td>0.455</td>\n",
       "      <td>0.365</td>\n",
       "      <td>0.095</td>\n",
       "      <td>0.5140</td>\n",
       "      <td>0.2245</td>\n",
       "      <td>0.1010</td>\n",
       "      <td>0.1500</td>\n",
       "      <td>15</td>\n",
       "    </tr>\n",
       "    <tr>\n",
       "      <th>1</th>\n",
       "      <td>M</td>\n",
       "      <td>0.350</td>\n",
       "      <td>0.265</td>\n",
       "      <td>0.090</td>\n",
       "      <td>0.2255</td>\n",
       "      <td>0.0995</td>\n",
       "      <td>0.0485</td>\n",
       "      <td>0.0700</td>\n",
       "      <td>7</td>\n",
       "    </tr>\n",
       "    <tr>\n",
       "      <th>2</th>\n",
       "      <td>F</td>\n",
       "      <td>0.530</td>\n",
       "      <td>0.420</td>\n",
       "      <td>0.135</td>\n",
       "      <td>0.6770</td>\n",
       "      <td>0.2565</td>\n",
       "      <td>0.1415</td>\n",
       "      <td>0.2100</td>\n",
       "      <td>9</td>\n",
       "    </tr>\n",
       "    <tr>\n",
       "      <th>3</th>\n",
       "      <td>M</td>\n",
       "      <td>0.440</td>\n",
       "      <td>0.365</td>\n",
       "      <td>0.125</td>\n",
       "      <td>0.5160</td>\n",
       "      <td>0.2155</td>\n",
       "      <td>0.1140</td>\n",
       "      <td>0.1550</td>\n",
       "      <td>10</td>\n",
       "    </tr>\n",
       "    <tr>\n",
       "      <th>4</th>\n",
       "      <td>I</td>\n",
       "      <td>0.330</td>\n",
       "      <td>0.255</td>\n",
       "      <td>0.080</td>\n",
       "      <td>0.2050</td>\n",
       "      <td>0.0895</td>\n",
       "      <td>0.0395</td>\n",
       "      <td>0.0550</td>\n",
       "      <td>7</td>\n",
       "    </tr>\n",
       "    <tr>\n",
       "      <th>...</th>\n",
       "      <td>...</td>\n",
       "      <td>...</td>\n",
       "      <td>...</td>\n",
       "      <td>...</td>\n",
       "      <td>...</td>\n",
       "      <td>...</td>\n",
       "      <td>...</td>\n",
       "      <td>...</td>\n",
       "      <td>...</td>\n",
       "    </tr>\n",
       "    <tr>\n",
       "      <th>4172</th>\n",
       "      <td>F</td>\n",
       "      <td>0.565</td>\n",
       "      <td>0.450</td>\n",
       "      <td>0.165</td>\n",
       "      <td>0.8870</td>\n",
       "      <td>0.3700</td>\n",
       "      <td>0.2390</td>\n",
       "      <td>0.2490</td>\n",
       "      <td>11</td>\n",
       "    </tr>\n",
       "    <tr>\n",
       "      <th>4173</th>\n",
       "      <td>M</td>\n",
       "      <td>0.590</td>\n",
       "      <td>0.440</td>\n",
       "      <td>0.135</td>\n",
       "      <td>0.9660</td>\n",
       "      <td>0.4390</td>\n",
       "      <td>0.2145</td>\n",
       "      <td>0.2605</td>\n",
       "      <td>10</td>\n",
       "    </tr>\n",
       "    <tr>\n",
       "      <th>4174</th>\n",
       "      <td>M</td>\n",
       "      <td>0.600</td>\n",
       "      <td>0.475</td>\n",
       "      <td>0.205</td>\n",
       "      <td>1.1760</td>\n",
       "      <td>0.5255</td>\n",
       "      <td>0.2875</td>\n",
       "      <td>0.3080</td>\n",
       "      <td>9</td>\n",
       "    </tr>\n",
       "    <tr>\n",
       "      <th>4175</th>\n",
       "      <td>F</td>\n",
       "      <td>0.625</td>\n",
       "      <td>0.485</td>\n",
       "      <td>0.150</td>\n",
       "      <td>1.0945</td>\n",
       "      <td>0.5310</td>\n",
       "      <td>0.2610</td>\n",
       "      <td>0.2960</td>\n",
       "      <td>10</td>\n",
       "    </tr>\n",
       "    <tr>\n",
       "      <th>4176</th>\n",
       "      <td>M</td>\n",
       "      <td>0.710</td>\n",
       "      <td>0.555</td>\n",
       "      <td>0.195</td>\n",
       "      <td>1.9485</td>\n",
       "      <td>0.9455</td>\n",
       "      <td>0.3765</td>\n",
       "      <td>0.4950</td>\n",
       "      <td>12</td>\n",
       "    </tr>\n",
       "  </tbody>\n",
       "</table>\n",
       "<p>4177 rows × 9 columns</p>\n",
       "</div>"
      ],
      "text/plain": [
       "     Sex  Length  Diameter  Height  Whole weight  Shucked weight  \\\n",
       "0      M   0.455     0.365   0.095        0.5140          0.2245   \n",
       "1      M   0.350     0.265   0.090        0.2255          0.0995   \n",
       "2      F   0.530     0.420   0.135        0.6770          0.2565   \n",
       "3      M   0.440     0.365   0.125        0.5160          0.2155   \n",
       "4      I   0.330     0.255   0.080        0.2050          0.0895   \n",
       "...   ..     ...       ...     ...           ...             ...   \n",
       "4172   F   0.565     0.450   0.165        0.8870          0.3700   \n",
       "4173   M   0.590     0.440   0.135        0.9660          0.4390   \n",
       "4174   M   0.600     0.475   0.205        1.1760          0.5255   \n",
       "4175   F   0.625     0.485   0.150        1.0945          0.5310   \n",
       "4176   M   0.710     0.555   0.195        1.9485          0.9455   \n",
       "\n",
       "      Viscera weight  Shell weight  Rings  \n",
       "0             0.1010        0.1500     15  \n",
       "1             0.0485        0.0700      7  \n",
       "2             0.1415        0.2100      9  \n",
       "3             0.1140        0.1550     10  \n",
       "4             0.0395        0.0550      7  \n",
       "...              ...           ...    ...  \n",
       "4172          0.2390        0.2490     11  \n",
       "4173          0.2145        0.2605     10  \n",
       "4174          0.2875        0.3080      9  \n",
       "4175          0.2610        0.2960     10  \n",
       "4176          0.3765        0.4950     12  \n",
       "\n",
       "[4177 rows x 9 columns]"
      ]
     },
     "execution_count": 390,
     "metadata": {},
     "output_type": "execute_result"
    }
   ],
   "source": [
    "df = pd.read_csv(\"abalone.csv\")\n",
    "df"
   ]
  },
  {
   "cell_type": "code",
   "execution_count": 391,
   "metadata": {},
   "outputs": [
    {
     "data": {
      "text/plain": [
       "(4177, 9)"
      ]
     },
     "execution_count": 391,
     "metadata": {},
     "output_type": "execute_result"
    }
   ],
   "source": [
    "df.shape"
   ]
  },
  {
   "cell_type": "markdown",
   "metadata": {},
   "source": [
    "Here we have 4177 rows and 9 columns in the dataset"
   ]
  },
  {
   "cell_type": "code",
   "execution_count": 392,
   "metadata": {},
   "outputs": [
    {
     "data": {
      "text/plain": [
       "Sex               0\n",
       "Length            0\n",
       "Diameter          0\n",
       "Height            0\n",
       "Whole weight      0\n",
       "Shucked weight    0\n",
       "Viscera weight    0\n",
       "Shell weight      0\n",
       "Rings             0\n",
       "dtype: int64"
      ]
     },
     "execution_count": 392,
     "metadata": {},
     "output_type": "execute_result"
    }
   ],
   "source": [
    "df.isnull().sum()"
   ]
  },
  {
   "cell_type": "markdown",
   "metadata": {},
   "source": [
    "There is no missing values"
   ]
  },
  {
   "cell_type": "code",
   "execution_count": 393,
   "metadata": {},
   "outputs": [
    {
     "data": {
      "text/plain": [
       "Sex                object\n",
       "Length            float64\n",
       "Diameter          float64\n",
       "Height            float64\n",
       "Whole weight      float64\n",
       "Shucked weight    float64\n",
       "Viscera weight    float64\n",
       "Shell weight      float64\n",
       "Rings               int64\n",
       "dtype: object"
      ]
     },
     "execution_count": 393,
     "metadata": {},
     "output_type": "execute_result"
    }
   ],
   "source": [
    "df.dtypes"
   ]
  },
  {
   "cell_type": "markdown",
   "metadata": {},
   "source": [
    "Here we have one object type column,one integer type and seven float type columns.So need to convert object type of data into integer using encoder."
   ]
  },
  {
   "cell_type": "code",
   "execution_count": 394,
   "metadata": {},
   "outputs": [
    {
     "data": {
      "text/plain": [
       "<AxesSubplot:>"
      ]
     },
     "execution_count": 394,
     "metadata": {},
     "output_type": "execute_result"
    },
    {
     "data": {
      "image/png": "[encoded data removed]",
      "text/plain": [
       "<Figure size 1080x720 with 2 Axes>"
      ]
     },
     "metadata": {
      "needs_background": "light"
     },
     "output_type": "display_data"
    }
   ],
   "source": [
    "plt.figure(figsize =(15,10))\n",
    "sns.heatmap(df.corr(),annot=True,linewidths = 0.5,linecolor=\"black\",fmt = '.2f')"
   ]
  },
  {
   "cell_type": "markdown",
   "metadata": {},
   "source": [
    "We can see that rings and shell weight is highly correlated feature.Least correlation with shucked weight that is 0.42"
   ]
  },
  {
   "cell_type": "code",
   "execution_count": 395,
   "metadata": {},
   "outputs": [
    {
     "data": {
      "image/png": "[encoded data removed]",
      "text/plain": [
       "<Figure size 1080x576 with 1 Axes>"
      ]
     },
     "metadata": {
      "needs_background": "light"
     },
     "output_type": "display_data"
    }
   ],
   "source": [
    "plt.figure(figsize=(15,8))\n",
    "df.corr()[\"Rings\"].sort_values(ascending=False).drop(['Rings']).plot(kind='bar',color='c')\n",
    "plt.xlabel('feature',fontsize=14)\n",
    "plt.ylabel('column with target names',fontsize=14)\n",
    "plt.title('correlation',fontsize=18)\n",
    "plt.show()"
   ]
  },
  {
   "cell_type": "markdown",
   "metadata": {},
   "source": [
    "Here we can see the clear picture of correlated between both indipendend and deppendent."
   ]
  },
  {
   "cell_type": "markdown",
   "metadata": {},
   "source": [
    "# EDA"
   ]
  },
  {
   "cell_type": "markdown",
   "metadata": {},
   "source": [
    "Sex"
   ]
  },
  {
   "cell_type": "code",
   "execution_count": 396,
   "metadata": {},
   "outputs": [
    {
     "data": {
      "text/plain": [
       "count     4177\n",
       "unique       3\n",
       "top          M\n",
       "freq      1528\n",
       "Name: Sex, dtype: object"
      ]
     },
     "execution_count": 396,
     "metadata": {},
     "output_type": "execute_result"
    }
   ],
   "source": [
    "df.Sex.describe()"
   ]
  },
  {
   "cell_type": "markdown",
   "metadata": {},
   "source": [
    "We can confirm, sex only has 3 categories, mainly - Male, Female and Infant, with Male being the most frequent of them. Let's see their density, to understand by how much is Male greater than Female and Infant in this dataset."
   ]
  },
  {
   "cell_type": "code",
   "execution_count": 397,
   "metadata": {},
   "outputs": [
    {
     "data": {
      "text/plain": [
       "M    1528\n",
       "I    1342\n",
       "F    1307\n",
       "Name: Sex, dtype: int64"
      ]
     },
     "execution_count": 397,
     "metadata": {},
     "output_type": "execute_result"
    }
   ],
   "source": [
    "df.Sex.value_counts()"
   ]
  },
  {
   "cell_type": "markdown",
   "metadata": {},
   "source": [
    "We can see that more males than other two categories"
   ]
  },
  {
   "cell_type": "code",
   "execution_count": 398,
   "metadata": {},
   "outputs": [
    {
     "data": {
      "image/png": "[encoded data removed]",
      "text/plain": [
       "<Figure size 432x288 with 1 Axes>"
      ]
     },
     "metadata": {
      "needs_background": "light"
     },
     "output_type": "display_data"
    }
   ],
   "source": [
    "sns.countplot(x=\"Sex\",data=df)\n",
    "plt.show()"
   ]
  },
  {
   "cell_type": "markdown",
   "metadata": {},
   "source": [
    "There are about equal proportions of Females and Infants, with slightly more Males, than either Females or Infants."
   ]
  },
  {
   "cell_type": "code",
   "execution_count": 399,
   "metadata": {},
   "outputs": [
    {
     "data": {
      "image/png": "[encoded data removed]",
      "text/plain": [
       "<Figure size 432x288 with 1 Axes>"
      ]
     },
     "metadata": {
      "needs_background": "light"
     },
     "output_type": "display_data"
    }
   ],
   "source": [
    "sns.barplot(x=\"Sex\",y=\"Rings\",data=df)\n",
    "plt.show()"
   ]
  },
  {
   "cell_type": "markdown",
   "metadata": {},
   "source": [
    "Here we can see that high aged Abalone is female and male .comparitivly low aged group is infant."
   ]
  },
  {
   "cell_type": "markdown",
   "metadata": {},
   "source": [
    "Length"
   ]
  },
  {
   "cell_type": "markdown",
   "metadata": {},
   "source": [
    "# Functions for  QQplot & hist:"
   ]
  },
  {
   "cell_type": "code",
   "execution_count": 400,
   "metadata": {},
   "outputs": [],
   "source": [
    "def original_dist(data_frame,feature_name):\n",
    "    plt.figure(figsize=(10,5))\n",
    "    plt.subplot(1,2,1)\n",
    "    stats.probplot(data_frame[feature_name],dist=\"norm\",plot=pylab)\n",
    "    plt.subplot(1,2,2)\n",
    "    data_frame[feature_name].hist()\n",
    "    plt.title(\"original_dist\")"
   ]
  },
  {
   "cell_type": "code",
   "execution_count": 401,
   "metadata": {},
   "outputs": [
    {
     "data": {
      "text/html": [
       "<div>\n",
       "<style scoped>\n",
       "    .dataframe tbody tr th:only-of-type {\n",
       "        vertical-align: middle;\n",
       "    }\n",
       "\n",
       "    .dataframe tbody tr th {\n",
       "        vertical-align: top;\n",
       "    }\n",
       "\n",
       "    .dataframe thead th {\n",
       "        text-align: right;\n",
       "    }\n",
       "</style>\n",
       "<table border=\"1\" class=\"dataframe\">\n",
       "  <thead>\n",
       "    <tr style=\"text-align: right;\">\n",
       "      <th></th>\n",
       "      <th>Length</th>\n",
       "      <th>Diameter</th>\n",
       "      <th>Height</th>\n",
       "      <th>Whole weight</th>\n",
       "      <th>Shucked weight</th>\n",
       "      <th>Viscera weight</th>\n",
       "      <th>Shell weight</th>\n",
       "      <th>Rings</th>\n",
       "      <th>Sex_F</th>\n",
       "      <th>Sex_I</th>\n",
       "      <th>Sex_M</th>\n",
       "    </tr>\n",
       "  </thead>\n",
       "  <tbody>\n",
       "    <tr>\n",
       "      <th>0</th>\n",
       "      <td>0.455</td>\n",
       "      <td>0.365</td>\n",
       "      <td>0.095</td>\n",
       "      <td>0.5140</td>\n",
       "      <td>0.2245</td>\n",
       "      <td>0.1010</td>\n",
       "      <td>0.1500</td>\n",
       "      <td>15</td>\n",
       "      <td>0</td>\n",
       "      <td>0</td>\n",
       "      <td>1</td>\n",
       "    </tr>\n",
       "    <tr>\n",
       "      <th>1</th>\n",
       "      <td>0.350</td>\n",
       "      <td>0.265</td>\n",
       "      <td>0.090</td>\n",
       "      <td>0.2255</td>\n",
       "      <td>0.0995</td>\n",
       "      <td>0.0485</td>\n",
       "      <td>0.0700</td>\n",
       "      <td>7</td>\n",
       "      <td>0</td>\n",
       "      <td>0</td>\n",
       "      <td>1</td>\n",
       "    </tr>\n",
       "    <tr>\n",
       "      <th>2</th>\n",
       "      <td>0.530</td>\n",
       "      <td>0.420</td>\n",
       "      <td>0.135</td>\n",
       "      <td>0.6770</td>\n",
       "      <td>0.2565</td>\n",
       "      <td>0.1415</td>\n",
       "      <td>0.2100</td>\n",
       "      <td>9</td>\n",
       "      <td>1</td>\n",
       "      <td>0</td>\n",
       "      <td>0</td>\n",
       "    </tr>\n",
       "    <tr>\n",
       "      <th>3</th>\n",
       "      <td>0.440</td>\n",
       "      <td>0.365</td>\n",
       "      <td>0.125</td>\n",
       "      <td>0.5160</td>\n",
       "      <td>0.2155</td>\n",
       "      <td>0.1140</td>\n",
       "      <td>0.1550</td>\n",
       "      <td>10</td>\n",
       "      <td>0</td>\n",
       "      <td>0</td>\n",
       "      <td>1</td>\n",
       "    </tr>\n",
       "    <tr>\n",
       "      <th>4</th>\n",
       "      <td>0.330</td>\n",
       "      <td>0.255</td>\n",
       "      <td>0.080</td>\n",
       "      <td>0.2050</td>\n",
       "      <td>0.0895</td>\n",
       "      <td>0.0395</td>\n",
       "      <td>0.0550</td>\n",
       "      <td>7</td>\n",
       "      <td>0</td>\n",
       "      <td>1</td>\n",
       "      <td>0</td>\n",
       "    </tr>\n",
       "    <tr>\n",
       "      <th>...</th>\n",
       "      <td>...</td>\n",
       "      <td>...</td>\n",
       "      <td>...</td>\n",
       "      <td>...</td>\n",
       "      <td>...</td>\n",
       "      <td>...</td>\n",
       "      <td>...</td>\n",
       "      <td>...</td>\n",
       "      <td>...</td>\n",
       "      <td>...</td>\n",
       "      <td>...</td>\n",
       "    </tr>\n",
       "    <tr>\n",
       "      <th>4172</th>\n",
       "      <td>0.565</td>\n",
       "      <td>0.450</td>\n",
       "      <td>0.165</td>\n",
       "      <td>0.8870</td>\n",
       "      <td>0.3700</td>\n",
       "      <td>0.2390</td>\n",
       "      <td>0.2490</td>\n",
       "      <td>11</td>\n",
       "      <td>1</td>\n",
       "      <td>0</td>\n",
       "      <td>0</td>\n",
       "    </tr>\n",
       "    <tr>\n",
       "      <th>4173</th>\n",
       "      <td>0.590</td>\n",
       "      <td>0.440</td>\n",
       "      <td>0.135</td>\n",
       "      <td>0.9660</td>\n",
       "      <td>0.4390</td>\n",
       "      <td>0.2145</td>\n",
       "      <td>0.2605</td>\n",
       "      <td>10</td>\n",
       "      <td>0</td>\n",
       "      <td>0</td>\n",
       "      <td>1</td>\n",
       "    </tr>\n",
       "    <tr>\n",
       "      <th>4174</th>\n",
       "      <td>0.600</td>\n",
       "      <td>0.475</td>\n",
       "      <td>0.205</td>\n",
       "      <td>1.1760</td>\n",
       "      <td>0.5255</td>\n",
       "      <td>0.2875</td>\n",
       "      <td>0.3080</td>\n",
       "      <td>9</td>\n",
       "      <td>0</td>\n",
       "      <td>0</td>\n",
       "      <td>1</td>\n",
       "    </tr>\n",
       "    <tr>\n",
       "      <th>4175</th>\n",
       "      <td>0.625</td>\n",
       "      <td>0.485</td>\n",
       "      <td>0.150</td>\n",
       "      <td>1.0945</td>\n",
       "      <td>0.5310</td>\n",
       "      <td>0.2610</td>\n",
       "      <td>0.2960</td>\n",
       "      <td>10</td>\n",
       "      <td>1</td>\n",
       "      <td>0</td>\n",
       "      <td>0</td>\n",
       "    </tr>\n",
       "    <tr>\n",
       "      <th>4176</th>\n",
       "      <td>0.710</td>\n",
       "      <td>0.555</td>\n",
       "      <td>0.195</td>\n",
       "      <td>1.9485</td>\n",
       "      <td>0.9455</td>\n",
       "      <td>0.3765</td>\n",
       "      <td>0.4950</td>\n",
       "      <td>12</td>\n",
       "      <td>0</td>\n",
       "      <td>0</td>\n",
       "      <td>1</td>\n",
       "    </tr>\n",
       "  </tbody>\n",
       "</table>\n",
       "<p>4177 rows × 11 columns</p>\n",
       "</div>"
      ],
      "text/plain": [
       "      Length  Diameter  Height  Whole weight  Shucked weight  Viscera weight  \\\n",
       "0      0.455     0.365   0.095        0.5140          0.2245          0.1010   \n",
       "1      0.350     0.265   0.090        0.2255          0.0995          0.0485   \n",
       "2      0.530     0.420   0.135        0.6770          0.2565          0.1415   \n",
       "3      0.440     0.365   0.125        0.5160          0.2155          0.1140   \n",
       "4      0.330     0.255   0.080        0.2050          0.0895          0.0395   \n",
       "...      ...       ...     ...           ...             ...             ...   \n",
       "4172   0.565     0.450   0.165        0.8870          0.3700          0.2390   \n",
       "4173   0.590     0.440   0.135        0.9660          0.4390          0.2145   \n",
       "4174   0.600     0.475   0.205        1.1760          0.5255          0.2875   \n",
       "4175   0.625     0.485   0.150        1.0945          0.5310          0.2610   \n",
       "4176   0.710     0.555   0.195        1.9485          0.9455          0.3765   \n",
       "\n",
       "      Shell weight  Rings  Sex_F  Sex_I  Sex_M  \n",
       "0           0.1500     15      0      0      1  \n",
       "1           0.0700      7      0      0      1  \n",
       "2           0.2100      9      1      0      0  \n",
       "3           0.1550     10      0      0      1  \n",
       "4           0.0550      7      0      1      0  \n",
       "...            ...    ...    ...    ...    ...  \n",
       "4172        0.2490     11      1      0      0  \n",
       "4173        0.2605     10      0      0      1  \n",
       "4174        0.3080      9      0      0      1  \n",
       "4175        0.2960     10      1      0      0  \n",
       "4176        0.4950     12      0      0      1  \n",
       "\n",
       "[4177 rows x 11 columns]"
      ]
     },
     "execution_count": 401,
     "metadata": {},
     "output_type": "execute_result"
    }
   ],
   "source": [
    "df_abalone=pd.get_dummies(df)\n",
    "df_abalone"
   ]
  },
  {
   "cell_type": "code",
   "execution_count": 402,
   "metadata": {},
   "outputs": [
    {
     "data": {
      "text/plain": [
       "count    4177.000000\n",
       "mean        0.523992\n",
       "std         0.120093\n",
       "min         0.075000\n",
       "25%         0.450000\n",
       "50%         0.545000\n",
       "75%         0.615000\n",
       "max         0.815000\n",
       "Name: Length, dtype: float64"
      ]
     },
     "execution_count": 402,
     "metadata": {},
     "output_type": "execute_result"
    }
   ],
   "source": [
    "df.Length.describe()"
   ]
  },
  {
   "cell_type": "markdown",
   "metadata": {},
   "source": [
    "First thing to notice is mean is less than the median, so we would expect there to be left skewed distribution,Another thing to notice is min is really small  "
   ]
  },
  {
   "cell_type": "code",
   "execution_count": 403,
   "metadata": {},
   "outputs": [
    {
     "data": {
      "image/png": "[encoded data removed]",
      "text/plain": [
       "<Figure size 720x360 with 2 Axes>"
      ]
     },
     "metadata": {
      "needs_background": "light"
     },
     "output_type": "display_data"
    }
   ],
   "source": [
    "original_dist(df,\"Length\")"
   ]
  },
  {
   "cell_type": "markdown",
   "metadata": {},
   "source": [
    "We can see a left skewed normal like shape in histogram and in QQplot can see that length closely follows a normal shape, and while we see deviation at the lowest value and highest length value.Outlier can see in this feature."
   ]
  },
  {
   "cell_type": "markdown",
   "metadata": {},
   "source": [
    "Diameter"
   ]
  },
  {
   "cell_type": "code",
   "execution_count": 404,
   "metadata": {},
   "outputs": [
    {
     "data": {
      "text/plain": [
       "count    4177.000000\n",
       "mean        0.407881\n",
       "std         0.099240\n",
       "min         0.055000\n",
       "25%         0.350000\n",
       "50%         0.425000\n",
       "75%         0.480000\n",
       "max         0.650000\n",
       "Name: Diameter, dtype: float64"
      ]
     },
     "execution_count": 404,
     "metadata": {},
     "output_type": "execute_result"
    }
   ],
   "source": [
    "df.Diameter.describe()"
   ]
  },
  {
   "cell_type": "markdown",
   "metadata": {},
   "source": [
    "Here also mean is less than median so expect left skewness.Lets check QQplot and hist plot for the clarification"
   ]
  },
  {
   "cell_type": "code",
   "execution_count": 405,
   "metadata": {},
   "outputs": [
    {
     "data": {
      "image/png": "[encoded data removed]",
      "text/plain": [
       "<Figure size 720x360 with 2 Axes>"
      ]
     },
     "metadata": {
      "needs_background": "light"
     },
     "output_type": "display_data"
    }
   ],
   "source": [
    "original_dist(df,\"Diameter\")"
   ]
  },
  {
   "cell_type": "markdown",
   "metadata": {},
   "source": [
    "here we can see left skewness and in QQplot Density is follows normal  shape, and while we see deviation in highest Diameter value."
   ]
  },
  {
   "cell_type": "markdown",
   "metadata": {},
   "source": [
    "Height"
   ]
  },
  {
   "cell_type": "code",
   "execution_count": 406,
   "metadata": {},
   "outputs": [
    {
     "data": {
      "text/plain": [
       "count    4177.000000\n",
       "mean        0.139516\n",
       "std         0.041827\n",
       "min         0.000000\n",
       "25%         0.115000\n",
       "50%         0.140000\n",
       "75%         0.165000\n",
       "max         1.130000\n",
       "Name: Height, dtype: float64"
      ]
     },
     "execution_count": 406,
     "metadata": {},
     "output_type": "execute_result"
    }
   ],
   "source": [
    "df.Height.describe()"
   ]
  },
  {
   "cell_type": "markdown",
   "metadata": {},
   "source": [
    "Here mean is higher than the median so right skewness. Most importent thing we can notice that minimum value zero."
   ]
  },
  {
   "cell_type": "code",
   "execution_count": 407,
   "metadata": {},
   "outputs": [
    {
     "data": {
      "image/png": "[encoded data removed]",
      "text/plain": [
       "<Figure size 720x360 with 2 Axes>"
      ]
     },
     "metadata": {
      "needs_background": "light"
     },
     "output_type": "display_data"
    }
   ],
   "source": [
    "original_dist(df,\"Height\")"
   ]
  },
  {
   "cell_type": "markdown",
   "metadata": {},
   "source": [
    "In QQplot two outlier are very far from the wiskers and the Height is completly cower the actual value except two outlier."
   ]
  },
  {
   "cell_type": "code",
   "execution_count": 408,
   "metadata": {},
   "outputs": [
    {
     "data": {
      "text/plain": [
       "count    4177.000000\n",
       "mean        0.828742\n",
       "std         0.490389\n",
       "min         0.002000\n",
       "25%         0.441500\n",
       "50%         0.799500\n",
       "75%         1.153000\n",
       "max         2.825500\n",
       "Name: Whole weight, dtype: float64"
      ]
     },
     "execution_count": 408,
     "metadata": {},
     "output_type": "execute_result"
    }
   ],
   "source": [
    "df[\"Whole weight\"].describe()"
   ]
  },
  {
   "cell_type": "code",
   "execution_count": 409,
   "metadata": {},
   "outputs": [
    {
     "data": {
      "image/png": "[encoded data removed]",
      "text/plain": [
       "<Figure size 720x360 with 2 Axes>"
      ]
     },
     "metadata": {
      "needs_background": "light"
     },
     "output_type": "display_data"
    }
   ],
   "source": [
    "original_dist(df,\"Whole weight\")"
   ]
  },
  {
   "cell_type": "markdown",
   "metadata": {},
   "source": [
    "Left skewness and in the center of the QQplot close to actual value and while we see high deviation in the lowest level"
   ]
  },
  {
   "cell_type": "markdown",
   "metadata": {},
   "source": [
    "# Outlier "
   ]
  },
  {
   "cell_type": "code",
   "execution_count": 410,
   "metadata": {},
   "outputs": [
    {
     "name": "stdout",
     "output_type": "stream",
     "text": [
      "(array([   6,   72,   81,   83,  129,  163,  164,  165,  165,  165,  166,\n",
      "        166,  167,  168,  170,  181,  232,  236,  236,  236,  237,  237,\n",
      "        238,  238,  239,  270,  275,  277,  278,  294,  310,  313,  314,\n",
      "        334,  351,  355,  358,  358,  362,  375,  416,  417,  428,  431,\n",
      "        433,  469,  478,  480,  501,  526,  526,  530,  572,  628,  673,\n",
      "        674,  675,  678,  694,  696,  696,  719,  719,  720,  720,  744,\n",
      "        754,  756,  811,  891,  891,  891, 1048, 1051, 1051, 1052, 1193,\n",
      "       1197, 1199, 1202, 1204, 1206, 1206, 1207, 1207, 1207, 1207, 1209,\n",
      "       1209, 1257, 1417, 1417, 1418, 1422, 1426, 1427, 1427, 1427, 1428,\n",
      "       1429, 1429, 1528, 1754, 1756, 1757, 1759, 1761, 1762, 1762, 1762,\n",
      "       1763, 1763, 1763, 1821, 1982, 1986, 1987, 1987, 2051, 2090, 2108,\n",
      "       2108, 2114, 2114, 2157, 2161, 2176, 2180, 2199, 2201, 2208, 2209,\n",
      "       2274, 2275, 2305, 2334, 2334, 2334, 2335, 2344, 2358, 2368, 2381,\n",
      "       2436, 2459, 2471, 2544, 2623, 2624, 2624, 2624, 2625, 2709, 2710,\n",
      "       2710, 2810, 2810, 2811, 2811, 2811, 2862, 2863, 2863, 2863, 3007,\n",
      "       3008, 3140, 3148, 3149, 3149, 3151, 3151, 3188, 3193, 3280, 3359,\n",
      "       3427, 3427, 3427, 3599, 3599, 3628, 3713, 3715, 3715, 3715, 3715,\n",
      "       3800, 3837, 3899, 3899, 3902, 3924, 3930, 3944, 3961, 3962, 3996,\n",
      "       4145, 4148], dtype=int64), array([7, 7, 6, 7, 6, 6, 6, 3, 4, 6, 6, 7, 7, 6, 5, 7, 7, 0, 1, 2, 0, 1,\n",
      "       0, 1, 0, 7, 7, 6, 7, 7, 7, 7, 7, 6, 7, 7, 3, 6, 7, 7, 7, 7, 7, 7,\n",
      "       7, 7, 7, 7, 7, 0, 1, 7, 7, 7, 7, 7, 7, 7, 1, 0, 1, 0, 1, 0, 1, 7,\n",
      "       7, 7, 7, 3, 4, 6, 5, 3, 4, 3, 4, 4, 4, 4, 5, 4, 5, 3, 4, 5, 6, 3,\n",
      "       4, 2, 2, 4, 4, 5, 4, 3, 4, 5, 6, 0, 1, 4, 4, 4, 5, 5, 4, 3, 4, 5,\n",
      "       3, 4, 5, 4, 4, 0, 0, 1, 2, 6, 6, 7, 0, 1, 6, 6, 7, 7, 7, 7, 6, 7,\n",
      "       6, 7, 7, 3, 5, 7, 7, 7, 7, 6, 0, 7, 7, 7, 4, 3, 3, 4, 5, 4, 5, 4,\n",
      "       5, 4, 5, 3, 4, 5, 4, 3, 4, 5, 4, 6, 7, 6, 6, 7, 6, 7, 6, 7, 7, 7,\n",
      "       3, 4, 5, 3, 4, 5, 4, 3, 4, 5, 6, 3, 1, 0, 1, 0, 7, 7, 7, 4, 4, 2,\n",
      "       6, 5], dtype=int64))\n"
     ]
    }
   ],
   "source": [
    "zscr=np.abs(zscore(df_abalone))\n",
    "\n",
    "threshold=3\n",
    "print(np.where(zscr>3))"
   ]
  },
  {
   "cell_type": "markdown",
   "metadata": {},
   "source": [
    "If removing the outlier huge data may be lost"
   ]
  },
  {
   "cell_type": "markdown",
   "metadata": {},
   "source": [
    "# skewness"
   ]
  },
  {
   "cell_type": "code",
   "execution_count": 411,
   "metadata": {},
   "outputs": [
    {
     "data": {
      "text/plain": [
       "Length           -0.639873\n",
       "Diameter         -0.609198\n",
       "Height            3.128817\n",
       "Whole weight      0.530959\n",
       "Shucked weight    0.719098\n",
       "Viscera weight    0.591852\n",
       "Shell weight      0.620927\n",
       "Rings             1.114102\n",
       "Sex_F             0.807302\n",
       "Sex_I             0.765708\n",
       "Sex_M             0.557390\n",
       "dtype: float64"
      ]
     },
     "execution_count": 411,
     "metadata": {},
     "output_type": "execute_result"
    }
   ],
   "source": [
    "df_abalone.skew()"
   ]
  },
  {
   "cell_type": "markdown",
   "metadata": {},
   "source": [
    "# Separating the columns into features and target"
   ]
  },
  {
   "cell_type": "code",
   "execution_count": 412,
   "metadata": {},
   "outputs": [],
   "source": [
    "x =df_abalone.drop(columns=[\"Rings\"])\n",
    "y = df_abalone[[\"Rings\"]]"
   ]
  },
  {
   "cell_type": "markdown",
   "metadata": {},
   "source": [
    "split the new dataset df_abalone_new as x and y"
   ]
  },
  {
   "cell_type": "code",
   "execution_count": 413,
   "metadata": {},
   "outputs": [
    {
     "data": {
      "text/plain": [
       "Length           -1.172354\n",
       "Diameter         -1.149520\n",
       "Height           -7.193805\n",
       "Whole weight     -1.075285\n",
       "Shucked weight   -0.478508\n",
       "Viscera weight   -0.497509\n",
       "Shell weight     -1.090070\n",
       "Sex_F             0.806641\n",
       "Sex_I             0.765137\n",
       "Sex_M             0.556641\n",
       "dtype: float64"
      ]
     },
     "execution_count": 413,
     "metadata": {},
     "output_type": "execute_result"
    }
   ],
   "source": [
    "# remove the skewness\n",
    "for i in x.columns:\n",
    "    if x[i].skew()>0.5:\n",
    "        x[i]=np.cbrt(x[i])\n",
    "    if x[i].skew()<-0.5:\n",
    "        x[i]=np.cbrt(x[i])\n",
    "x.skew()"
   ]
  },
  {
   "cell_type": "markdown",
   "metadata": {},
   "source": [
    "now here we can see the after removing the x input except catogorical column"
   ]
  },
  {
   "cell_type": "code",
   "execution_count": 414,
   "metadata": {},
   "outputs": [],
   "source": [
    "lr = LinearRegression()"
   ]
  },
  {
   "cell_type": "code",
   "execution_count": 415,
   "metadata": {},
   "outputs": [
    {
     "name": "stdout",
     "output_type": "stream",
     "text": [
      "At random state 0,the training accuracy is :- 0.5224766385661772\n",
      "At random state0,the testing accuracy is :- 0.533217356198751\n",
      "\n",
      "\n",
      "At random state 1,the training accuracy is :- 0.5274650172669446\n",
      "At random state1,the testing accuracy is :- 0.5142820205414274\n",
      "\n",
      "\n",
      "At random state 2,the training accuracy is :- 0.5225378875839028\n",
      "At random state2,the testing accuracy is :- 0.5288378385625909\n",
      "\n",
      "\n",
      "At random state 3,the training accuracy is :- 0.5312331930317878\n",
      "At random state3,the testing accuracy is :- 0.4945577750620076\n",
      "\n",
      "\n",
      "At random state 4,the training accuracy is :- 0.5278775680921071\n",
      "At random state4,the testing accuracy is :- 0.5089274853653827\n",
      "\n",
      "\n",
      "At random state 5,the training accuracy is :- 0.5317775994064493\n",
      "At random state5,the testing accuracy is :- 0.4961469111933712\n",
      "\n",
      "\n",
      "At random state 6,the training accuracy is :- 0.5184482295380175\n",
      "At random state6,the testing accuracy is :- 0.5503616851657482\n",
      "\n",
      "\n",
      "At random state 7,the training accuracy is :- 0.5213370924149299\n",
      "At random state7,the testing accuracy is :- 0.5309947235762076\n",
      "\n",
      "\n",
      "At random state 8,the training accuracy is :- 0.5264603323659942\n",
      "At random state8,the testing accuracy is :- 0.517230172099147\n",
      "\n",
      "\n",
      "At random state 9,the training accuracy is :- 0.5352760188807525\n",
      "At random state9,the testing accuracy is :- 0.47910911862025685\n",
      "\n",
      "\n",
      "At random state 10,the training accuracy is :- 0.5227745629906888\n",
      "At random state10,the testing accuracy is :- 0.5326862121442224\n",
      "\n",
      "\n",
      "At random state 11,the training accuracy is :- 0.5207936331192422\n",
      "At random state11,the testing accuracy is :- 0.5402752474025406\n",
      "\n",
      "\n",
      "At random state 12,the training accuracy is :- 0.5136798324491185\n",
      "At random state12,the testing accuracy is :- 0.5651657724463084\n",
      "\n",
      "\n",
      "At random state 13,the training accuracy is :- 0.5204458146306972\n",
      "At random state13,the testing accuracy is :- 0.5422182544066814\n",
      "\n",
      "\n",
      "At random state 14,the training accuracy is :- 0.527735898271287\n",
      "At random state14,the testing accuracy is :- 0.5069903622618462\n",
      "\n",
      "\n",
      "At random state 15,the training accuracy is :- 0.5323144214500989\n",
      "At random state15,the testing accuracy is :- 0.493804981656884\n",
      "\n",
      "\n",
      "At random state 16,the training accuracy is :- 0.5244863137224778\n",
      "At random state16,the testing accuracy is :- 0.5239527354080322\n",
      "\n",
      "\n",
      "At random state 17,the training accuracy is :- 0.5214783617883968\n",
      "At random state17,the testing accuracy is :- 0.5362658468004216\n",
      "\n",
      "\n",
      "At random state 18,the training accuracy is :- 0.522913049203252\n",
      "At random state18,the testing accuracy is :- 0.5310412043054402\n",
      "\n",
      "\n",
      "At random state 19,the training accuracy is :- 0.536826164159945\n",
      "At random state19,the testing accuracy is :- 0.47349457984504983\n",
      "\n",
      "\n",
      "At random state 20,the training accuracy is :- 0.5235401954305379\n",
      "At random state20,the testing accuracy is :- 0.5266593709808274\n",
      "\n",
      "\n",
      "At random state 21,the training accuracy is :- 0.5282374386521007\n",
      "At random state21,the testing accuracy is :- 0.5094945137474456\n",
      "\n",
      "\n",
      "At random state 22,the training accuracy is :- 0.5286927433395894\n",
      "At random state22,the testing accuracy is :- 0.5087034636944212\n",
      "\n",
      "\n",
      "At random state 23,the training accuracy is :- 0.5297920779440408\n",
      "At random state23,the testing accuracy is :- 0.5049006805913725\n",
      "\n",
      "\n",
      "At random state 24,the training accuracy is :- 0.5289631341790352\n",
      "At random state24,the testing accuracy is :- 0.5050111564583475\n",
      "\n",
      "\n",
      "At random state 25,the training accuracy is :- 0.5332454849783359\n",
      "At random state25,the testing accuracy is :- 0.483178344044189\n",
      "\n",
      "\n",
      "At random state 26,the training accuracy is :- 0.5314539891082776\n",
      "At random state26,the testing accuracy is :- 0.4989222508401564\n",
      "\n",
      "\n",
      "At random state 27,the training accuracy is :- 0.522070814154647\n",
      "At random state27,the testing accuracy is :- 0.5352093462463405\n",
      "\n",
      "\n",
      "At random state 28,the training accuracy is :- 0.5181848551209691\n",
      "At random state28,the testing accuracy is :- 0.551526213667533\n",
      "\n",
      "\n",
      "At random state 29,the training accuracy is :- 0.5278827353440929\n",
      "At random state29,the testing accuracy is :- 0.5128644384657634\n",
      "\n",
      "\n",
      "At random state 30,the training accuracy is :- 0.5189412015845649\n",
      "At random state30,the testing accuracy is :- 0.5453262237350274\n",
      "\n",
      "\n",
      "At random state 31,the training accuracy is :- 0.5218957384882634\n",
      "At random state31,the testing accuracy is :- 0.531636542167101\n",
      "\n",
      "\n",
      "At random state 32,the training accuracy is :- 0.532934951482342\n",
      "At random state32,the testing accuracy is :- 0.4892909654676182\n",
      "\n",
      "\n",
      "At random state 33,the training accuracy is :- 0.5301042047908721\n",
      "At random state33,the testing accuracy is :- 0.49640848671383897\n",
      "\n",
      "\n",
      "At random state 34,the training accuracy is :- 0.5294722896091358\n",
      "At random state34,the testing accuracy is :- 0.5006956144101846\n",
      "\n",
      "\n",
      "At random state 35,the training accuracy is :- 0.5280047645892918\n",
      "At random state35,the testing accuracy is :- 0.5077051744189504\n",
      "\n",
      "\n",
      "At random state 36,the training accuracy is :- 0.5229275556509712\n",
      "At random state36,the testing accuracy is :- 0.5303503789435975\n",
      "\n",
      "\n",
      "At random state 37,the training accuracy is :- 0.5184322139809538\n",
      "At random state37,the testing accuracy is :- 0.5496770645301605\n",
      "\n",
      "\n",
      "At random state 38,the training accuracy is :- 0.521936774041668\n",
      "At random state38,the testing accuracy is :- 0.5311859576887237\n",
      "\n",
      "\n",
      "At random state 39,the training accuracy is :- 0.5198363495084801\n",
      "At random state39,the testing accuracy is :- 0.5461478901183183\n",
      "\n",
      "\n",
      "At random state 40,the training accuracy is :- 0.5347054051722333\n",
      "At random state40,the testing accuracy is :- 0.4849118655484542\n",
      "\n",
      "\n",
      "At random state 41,the training accuracy is :- 0.5260608607336785\n",
      "At random state41,the testing accuracy is :- 0.5181969864404369\n",
      "\n",
      "\n",
      "At random state 42,the training accuracy is :- 0.5327923261392642\n",
      "At random state42,the testing accuracy is :- 0.49112329336753\n",
      "\n",
      "\n",
      "At random state 43,the training accuracy is :- 0.5186294709000696\n",
      "At random state43,the testing accuracy is :- 0.5475097327188369\n",
      "\n",
      "\n",
      "At random state 44,the training accuracy is :- 0.5259933687463314\n",
      "At random state44,the testing accuracy is :- 0.513898742799527\n",
      "\n",
      "\n",
      "At random state 45,the training accuracy is :- 0.5295954122955351\n",
      "At random state45,the testing accuracy is :- 0.5045927612407669\n",
      "\n",
      "\n",
      "At random state 46,the training accuracy is :- 0.5249349617527779\n",
      "At random state46,the testing accuracy is :- 0.5153994192594293\n",
      "\n",
      "\n",
      "At random state 47,the training accuracy is :- 0.5269628368732292\n",
      "At random state47,the testing accuracy is :- 0.5132629190841025\n",
      "\n",
      "\n",
      "At random state 48,the training accuracy is :- 0.522522800881436\n",
      "At random state48,the testing accuracy is :- 0.5338491833812787\n",
      "\n",
      "\n",
      "At random state 49,the training accuracy is :- 0.5296510679750441\n",
      "At random state49,the testing accuracy is :- 0.49938970213446876\n",
      "\n",
      "\n",
      "At random state 50,the training accuracy is :- 0.5243109966211335\n",
      "At random state50,the testing accuracy is :- 0.5245298217453065\n",
      "\n",
      "\n",
      "At random state 51,the training accuracy is :- 0.5221039755281451\n",
      "At random state51,the testing accuracy is :- 0.5344299648513575\n",
      "\n",
      "\n",
      "At random state 52,the training accuracy is :- 0.5171176661739041\n",
      "At random state52,the testing accuracy is :- 0.5554398893495888\n",
      "\n",
      "\n",
      "At random state 53,the training accuracy is :- 0.52350323280996\n",
      "At random state53,the testing accuracy is :- 0.5274092085640311\n",
      "\n",
      "\n",
      "At random state 54,the training accuracy is :- 0.5334797777853691\n",
      "At random state54,the testing accuracy is :- 0.48161177345059314\n",
      "\n",
      "\n",
      "At random state 55,the training accuracy is :- 0.5257303503457342\n",
      "At random state55,the testing accuracy is :- 0.5197443375632713\n",
      "\n",
      "\n",
      "At random state 56,the training accuracy is :- 0.5210203143082077\n",
      "At random state56,the testing accuracy is :- 0.5333078177251289\n",
      "\n",
      "\n",
      "At random state 57,the training accuracy is :- 0.5239636601514401\n",
      "At random state57,the testing accuracy is :- 0.5266218300630585\n",
      "\n",
      "\n",
      "At random state 58,the training accuracy is :- 0.5276559328728307\n",
      "At random state58,the testing accuracy is :- 0.5033561377106595\n",
      "\n",
      "\n",
      "At random state 59,the training accuracy is :- 0.5282154850811962\n",
      "At random state59,the testing accuracy is :- 0.5087150979116932\n",
      "\n",
      "\n",
      "At random state 60,the training accuracy is :- 0.524816043675701\n",
      "At random state60,the testing accuracy is :- 0.5254618705639599\n",
      "\n",
      "\n",
      "At random state 61,the training accuracy is :- 0.5214589151418922\n",
      "At random state61,the testing accuracy is :- 0.5357354638861263\n",
      "\n",
      "\n",
      "At random state 62,the training accuracy is :- 0.5208010512255663\n",
      "At random state62,the testing accuracy is :- 0.5405540041609382\n",
      "\n",
      "\n",
      "At random state 63,the training accuracy is :- 0.5214381281935769\n",
      "At random state63,the testing accuracy is :- 0.5386783838914995\n",
      "\n",
      "\n",
      "At random state 64,the training accuracy is :- 0.5272216072355889\n",
      "At random state64,the testing accuracy is :- 0.5079921386607775\n",
      "\n",
      "\n",
      "At random state 65,the training accuracy is :- 0.5251762044879105\n",
      "At random state65,the testing accuracy is :- 0.5216991982702393\n",
      "\n",
      "\n",
      "At random state 66,the training accuracy is :- 0.5296339151146618\n",
      "At random state66,the testing accuracy is :- 0.5042028434765017\n",
      "\n",
      "\n",
      "At random state 67,the training accuracy is :- 0.5276301415986018\n",
      "At random state67,the testing accuracy is :- 0.5111017812811887\n",
      "\n",
      "\n",
      "At random state 68,the training accuracy is :- 0.5313915499870823\n",
      "At random state68,the testing accuracy is :- 0.4931113859345808\n",
      "\n",
      "\n",
      "At random state 69,the training accuracy is :- 0.5237752687138649\n",
      "At random state69,the testing accuracy is :- 0.5244571890758725\n",
      "\n",
      "\n",
      "At random state 70,the training accuracy is :- 0.5257720422737313\n",
      "At random state70,the testing accuracy is :- 0.5208295814738396\n",
      "\n",
      "\n",
      "At random state 71,the training accuracy is :- 0.5278756641709377\n",
      "At random state71,the testing accuracy is :- 0.5114859764928327\n",
      "\n",
      "\n",
      "At random state 72,the training accuracy is :- 0.5258947819469149\n",
      "At random state72,the testing accuracy is :- 0.5149230669973026\n",
      "\n",
      "\n"
     ]
    },
    {
     "name": "stdout",
     "output_type": "stream",
     "text": [
      "At random state 73,the training accuracy is :- 0.5250100328117753\n",
      "At random state73,the testing accuracy is :- 0.5234526928430823\n",
      "\n",
      "\n",
      "At random state 74,the training accuracy is :- 0.529921379201453\n",
      "At random state74,the testing accuracy is :- 0.505208860787949\n",
      "\n",
      "\n",
      "At random state 75,the training accuracy is :- 0.5228656366631956\n",
      "At random state75,the testing accuracy is :- 0.5339301056387996\n",
      "\n",
      "\n",
      "At random state 76,the training accuracy is :- 0.5275629720834065\n",
      "At random state76,the testing accuracy is :- 0.5061584524922987\n",
      "\n",
      "\n",
      "At random state 77,the training accuracy is :- 0.5216528392695354\n",
      "At random state77,the testing accuracy is :- 0.5344955781740934\n",
      "\n",
      "\n",
      "At random state 78,the training accuracy is :- 0.5311240908369352\n",
      "At random state78,the testing accuracy is :- 0.4917858130077972\n",
      "\n",
      "\n",
      "At random state 79,the training accuracy is :- 0.5243893966056368\n",
      "At random state79,the testing accuracy is :- 0.5222195980198051\n",
      "\n",
      "\n",
      "At random state 80,the training accuracy is :- 0.5289878087058041\n",
      "At random state80,the testing accuracy is :- 0.5042074906094178\n",
      "\n",
      "\n",
      "At random state 81,the training accuracy is :- 0.5183960828965866\n",
      "At random state81,the testing accuracy is :- 0.5491625249600971\n",
      "\n",
      "\n",
      "At random state 82,the training accuracy is :- 0.5163654060107907\n",
      "At random state82,the testing accuracy is :- 0.5563585025080757\n",
      "\n",
      "\n",
      "At random state 83,the training accuracy is :- 0.5288763050803913\n",
      "At random state83,the testing accuracy is :- 0.5013576411246\n",
      "\n",
      "\n",
      "At random state 84,the training accuracy is :- 0.5285210887321395\n",
      "At random state84,the testing accuracy is :- 0.5093237465872044\n",
      "\n",
      "\n",
      "At random state 85,the training accuracy is :- 0.5282620717237172\n",
      "At random state85,the testing accuracy is :- 0.5098615173660873\n",
      "\n",
      "\n",
      "At random state 86,the training accuracy is :- 0.5320589939473199\n",
      "At random state86,the testing accuracy is :- 0.49111489101334793\n",
      "\n",
      "\n",
      "At random state 87,the training accuracy is :- 0.5305844564643881\n",
      "At random state87,the testing accuracy is :- 0.4964105858376664\n",
      "\n",
      "\n",
      "At random state 88,the training accuracy is :- 0.5151042929128479\n",
      "At random state88,the testing accuracy is :- 0.5619393141938724\n",
      "\n",
      "\n",
      "At random state 89,the training accuracy is :- 0.5178504016656307\n",
      "At random state89,the testing accuracy is :- 0.5528010652558428\n",
      "\n",
      "\n",
      "At random state 90,the training accuracy is :- 0.5286325961141096\n",
      "At random state90,the testing accuracy is :- 0.5087337373998454\n",
      "\n",
      "\n",
      "At random state 91,the training accuracy is :- 0.5305507817257612\n",
      "At random state91,the testing accuracy is :- 0.49662868922570047\n",
      "\n",
      "\n",
      "At random state 92,the training accuracy is :- 0.539145775103274\n",
      "At random state92,the testing accuracy is :- 0.4621941789390964\n",
      "\n",
      "\n",
      "At random state 93,the training accuracy is :- 0.5204711851245607\n",
      "At random state93,the testing accuracy is :- 0.541500009994865\n",
      "\n",
      "\n",
      "At random state 94,the training accuracy is :- 0.5247671073823694\n",
      "At random state94,the testing accuracy is :- 0.5228869221698114\n",
      "\n",
      "\n",
      "At random state 95,the training accuracy is :- 0.5238242456303855\n",
      "At random state95,the testing accuracy is :- 0.5285182936779012\n",
      "\n",
      "\n",
      "At random state 96,the training accuracy is :- 0.527355531615985\n",
      "At random state96,the testing accuracy is :- 0.5097202526852757\n",
      "\n",
      "\n",
      "At random state 97,the training accuracy is :- 0.5230386752879226\n",
      "At random state97,the testing accuracy is :- 0.5327850293003307\n",
      "\n",
      "\n",
      "At random state 98,the training accuracy is :- 0.5341166483650788\n",
      "At random state98,the testing accuracy is :- 0.48814515478839915\n",
      "\n",
      "\n",
      "At random state 99,the training accuracy is :- 0.5247135579233109\n",
      "At random state99,the testing accuracy is :- 0.5257853852910326\n",
      "\n",
      "\n"
     ]
    }
   ],
   "source": [
    "for i in range (0,100):\n",
    "    x_train,x_test,y_train,y_test=train_test_split(x,y,test_size=0.2,random_state=i)\n",
    "    lr.fit(x_train,y_train)\n",
    "    pred_train=lr.predict(x_train)\n",
    "    pred_test=lr.predict(x_test)\n",
    "    print(f\"At random state {i},the training accuracy is :- {r2_score(y_train,pred_train)}\")\n",
    "    print(f\"At random state{i},the testing accuracy is :- {r2_score(y_test,pred_test)}\")\n",
    "    print(\"\\n\")\n",
    "          "
   ]
  },
  {
   "cell_type": "markdown",
   "metadata": {},
   "source": [
    "At random state 12 the model accuracy is 56.let try feature select for improving the accuracy"
   ]
  },
  {
   "cell_type": "markdown",
   "metadata": {},
   "source": [
    "# Feature selection using pearson correlation"
   ]
  },
  {
   "cell_type": "code",
   "execution_count": 416,
   "metadata": {},
   "outputs": [
    {
     "data": {
      "text/html": [
       "<div>\n",
       "<style scoped>\n",
       "    .dataframe tbody tr th:only-of-type {\n",
       "        vertical-align: middle;\n",
       "    }\n",
       "\n",
       "    .dataframe tbody tr th {\n",
       "        vertical-align: top;\n",
       "    }\n",
       "\n",
       "    .dataframe thead th {\n",
       "        text-align: right;\n",
       "    }\n",
       "</style>\n",
       "<table border=\"1\" class=\"dataframe\">\n",
       "  <thead>\n",
       "    <tr style=\"text-align: right;\">\n",
       "      <th></th>\n",
       "      <th>Length</th>\n",
       "      <th>Diameter</th>\n",
       "      <th>Height</th>\n",
       "      <th>Whole weight</th>\n",
       "      <th>Shucked weight</th>\n",
       "      <th>Viscera weight</th>\n",
       "      <th>Shell weight</th>\n",
       "      <th>Sex_F</th>\n",
       "      <th>Sex_I</th>\n",
       "      <th>Sex_M</th>\n",
       "    </tr>\n",
       "  </thead>\n",
       "  <tbody>\n",
       "    <tr>\n",
       "      <th>0</th>\n",
       "      <td>0.769137</td>\n",
       "      <td>0.714657</td>\n",
       "      <td>0.769864</td>\n",
       "      <td>0.928720</td>\n",
       "      <td>0.607769</td>\n",
       "      <td>0.465701</td>\n",
       "      <td>0.809943</td>\n",
       "      <td>0.0</td>\n",
       "      <td>0.0</td>\n",
       "      <td>1.0</td>\n",
       "    </tr>\n",
       "    <tr>\n",
       "      <th>1</th>\n",
       "      <td>0.704730</td>\n",
       "      <td>0.642316</td>\n",
       "      <td>0.765252</td>\n",
       "      <td>0.847476</td>\n",
       "      <td>0.463384</td>\n",
       "      <td>0.364682</td>\n",
       "      <td>0.744179</td>\n",
       "      <td>0.0</td>\n",
       "      <td>0.0</td>\n",
       "      <td>1.0</td>\n",
       "    </tr>\n",
       "    <tr>\n",
       "      <th>2</th>\n",
       "      <td>0.809267</td>\n",
       "      <td>0.748887</td>\n",
       "      <td>0.800517</td>\n",
       "      <td>0.957583</td>\n",
       "      <td>0.635374</td>\n",
       "      <td>0.521097</td>\n",
       "      <td>0.840797</td>\n",
       "      <td>1.0</td>\n",
       "      <td>0.0</td>\n",
       "      <td>0.0</td>\n",
       "    </tr>\n",
       "    <tr>\n",
       "      <th>3</th>\n",
       "      <td>0.760590</td>\n",
       "      <td>0.714657</td>\n",
       "      <td>0.793701</td>\n",
       "      <td>0.929121</td>\n",
       "      <td>0.599537</td>\n",
       "      <td>0.484881</td>\n",
       "      <td>0.812899</td>\n",
       "      <td>0.0</td>\n",
       "      <td>0.0</td>\n",
       "      <td>1.0</td>\n",
       "    </tr>\n",
       "    <tr>\n",
       "      <th>4</th>\n",
       "      <td>0.691042</td>\n",
       "      <td>0.634133</td>\n",
       "      <td>0.755303</td>\n",
       "      <td>0.838549</td>\n",
       "      <td>0.447309</td>\n",
       "      <td>0.340564</td>\n",
       "      <td>0.724503</td>\n",
       "      <td>0.0</td>\n",
       "      <td>1.0</td>\n",
       "      <td>0.0</td>\n",
       "    </tr>\n",
       "  </tbody>\n",
       "</table>\n",
       "</div>"
      ],
      "text/plain": [
       "     Length  Diameter    Height  Whole weight  Shucked weight  Viscera weight  \\\n",
       "0  0.769137  0.714657  0.769864      0.928720        0.607769        0.465701   \n",
       "1  0.704730  0.642316  0.765252      0.847476        0.463384        0.364682   \n",
       "2  0.809267  0.748887  0.800517      0.957583        0.635374        0.521097   \n",
       "3  0.760590  0.714657  0.793701      0.929121        0.599537        0.484881   \n",
       "4  0.691042  0.634133  0.755303      0.838549        0.447309        0.340564   \n",
       "\n",
       "   Shell weight  Sex_F  Sex_I  Sex_M  \n",
       "0      0.809943    0.0    0.0    1.0  \n",
       "1      0.744179    0.0    0.0    1.0  \n",
       "2      0.840797    1.0    0.0    0.0  \n",
       "3      0.812899    0.0    0.0    1.0  \n",
       "4      0.724503    0.0    1.0    0.0  "
      ]
     },
     "execution_count": 416,
     "metadata": {},
     "output_type": "execute_result"
    }
   ],
   "source": [
    "x.head()"
   ]
  },
  {
   "cell_type": "code",
   "execution_count": 417,
   "metadata": {},
   "outputs": [
    {
     "data": {
      "text/plain": [
       "((3341, 10), (836, 10))"
      ]
     },
     "execution_count": 417,
     "metadata": {},
     "output_type": "execute_result"
    }
   ],
   "source": [
    "x_train.shape,x_test.shape"
   ]
  },
  {
   "cell_type": "code",
   "execution_count": 418,
   "metadata": {},
   "outputs": [
    {
     "data": {
      "image/png": "[encoded data removed]",
      "text/plain": [
       "<Figure size 864x720 with 2 Axes>"
      ]
     },
     "metadata": {
      "needs_background": "light"
     },
     "output_type": "display_data"
    }
   ],
   "source": [
    "# using pearson correlation\n",
    "plt.figure(figsize=(12,10))\n",
    "cor = x_train.corr()\n",
    "sns.heatmap(cor, annot=True, cmap=plt.cm.CMRmap_r)\n",
    "plt.show()"
   ]
  },
  {
   "cell_type": "code",
   "execution_count": 419,
   "metadata": {},
   "outputs": [],
   "source": [
    "# with the following function we can select highly correlated features\n",
    "# it will remove the first feature that is correlated with anything other feature\n",
    "\n",
    "def correlation(dataset,threshold):\n",
    "    col_corr = set() # set of all the names of correlated columns\n",
    "    corr_matrix = dataset.corr()\n",
    "    for i in range(len(corr_matrix.columns)):\n",
    "        for j in range(i):\n",
    "            if (corr_matrix.iloc[i,j]) > threshold:\n",
    "                colname = corr_matrix.columns[i] # name of the column\n",
    "                col_corr.add(colname)\n",
    "            \n",
    "    return col_corr\n",
    "        "
   ]
  },
  {
   "cell_type": "code",
   "execution_count": 420,
   "metadata": {},
   "outputs": [
    {
     "data": {
      "text/plain": [
       "5"
      ]
     },
     "execution_count": 420,
     "metadata": {},
     "output_type": "execute_result"
    }
   ],
   "source": [
    "corr_features = correlation(x_train,0.85)\n",
    "len(set(corr_features))"
   ]
  },
  {
   "cell_type": "markdown",
   "metadata": {},
   "source": [
    " we have 5 most correlated features"
   ]
  },
  {
   "cell_type": "code",
   "execution_count": 421,
   "metadata": {},
   "outputs": [
    {
     "data": {
      "text/plain": [
       "{'Diameter',\n",
       " 'Shell weight',\n",
       " 'Shucked weight',\n",
       " 'Viscera weight',\n",
       " 'Whole weight'}"
      ]
     },
     "execution_count": 421,
     "metadata": {},
     "output_type": "execute_result"
    }
   ],
   "source": [
    "corr_features"
   ]
  },
  {
   "cell_type": "code",
   "execution_count": 422,
   "metadata": {},
   "outputs": [],
   "source": [
    "x_train=x_train.drop(corr_features,axis=1)\n",
    "x_test=x_test.drop(corr_features,axis=1)"
   ]
  },
  {
   "cell_type": "markdown",
   "metadata": {},
   "source": [
    "drop the highly correlated features,"
   ]
  },
  {
   "cell_type": "code",
   "execution_count": 423,
   "metadata": {},
   "outputs": [
    {
     "name": "stdout",
     "output_type": "stream",
     "text": [
      "At random state 0,the training accuracy is :- 0.5224766385661772\n",
      "At random state0,the testing accuracy is :- 0.533217356198751\n",
      "\n",
      "\n",
      "At random state 1,the training accuracy is :- 0.5274650172669446\n",
      "At random state1,the testing accuracy is :- 0.5142820205414274\n",
      "\n",
      "\n",
      "At random state 2,the training accuracy is :- 0.5225378875839028\n",
      "At random state2,the testing accuracy is :- 0.5288378385625909\n",
      "\n",
      "\n",
      "At random state 3,the training accuracy is :- 0.5312331930317878\n",
      "At random state3,the testing accuracy is :- 0.4945577750620076\n",
      "\n",
      "\n",
      "At random state 4,the training accuracy is :- 0.5278775680921071\n",
      "At random state4,the testing accuracy is :- 0.5089274853653827\n",
      "\n",
      "\n",
      "At random state 5,the training accuracy is :- 0.5317775994064493\n",
      "At random state5,the testing accuracy is :- 0.4961469111933712\n",
      "\n",
      "\n",
      "At random state 6,the training accuracy is :- 0.5184482295380175\n",
      "At random state6,the testing accuracy is :- 0.5503616851657482\n",
      "\n",
      "\n",
      "At random state 7,the training accuracy is :- 0.5213370924149299\n",
      "At random state7,the testing accuracy is :- 0.5309947235762076\n",
      "\n",
      "\n",
      "At random state 8,the training accuracy is :- 0.5264603323659942\n",
      "At random state8,the testing accuracy is :- 0.517230172099147\n",
      "\n",
      "\n",
      "At random state 9,the training accuracy is :- 0.5352760188807525\n",
      "At random state9,the testing accuracy is :- 0.47910911862025685\n",
      "\n",
      "\n",
      "At random state 10,the training accuracy is :- 0.5227745629906888\n",
      "At random state10,the testing accuracy is :- 0.5326862121442224\n",
      "\n",
      "\n",
      "At random state 11,the training accuracy is :- 0.5207936331192422\n",
      "At random state11,the testing accuracy is :- 0.5402752474025406\n",
      "\n",
      "\n",
      "At random state 12,the training accuracy is :- 0.5136798324491185\n",
      "At random state12,the testing accuracy is :- 0.5651657724463084\n",
      "\n",
      "\n",
      "At random state 13,the training accuracy is :- 0.5204458146306972\n",
      "At random state13,the testing accuracy is :- 0.5422182544066814\n",
      "\n",
      "\n",
      "At random state 14,the training accuracy is :- 0.527735898271287\n",
      "At random state14,the testing accuracy is :- 0.5069903622618462\n",
      "\n",
      "\n",
      "At random state 15,the training accuracy is :- 0.5323144214500989\n",
      "At random state15,the testing accuracy is :- 0.493804981656884\n",
      "\n",
      "\n",
      "At random state 16,the training accuracy is :- 0.5244863137224778\n",
      "At random state16,the testing accuracy is :- 0.5239527354080322\n",
      "\n",
      "\n",
      "At random state 17,the training accuracy is :- 0.5214783617883968\n",
      "At random state17,the testing accuracy is :- 0.5362658468004216\n",
      "\n",
      "\n",
      "At random state 18,the training accuracy is :- 0.522913049203252\n",
      "At random state18,the testing accuracy is :- 0.5310412043054402\n",
      "\n",
      "\n",
      "At random state 19,the training accuracy is :- 0.536826164159945\n",
      "At random state19,the testing accuracy is :- 0.47349457984504983\n",
      "\n",
      "\n",
      "At random state 20,the training accuracy is :- 0.5235401954305379\n",
      "At random state20,the testing accuracy is :- 0.5266593709808274\n",
      "\n",
      "\n",
      "At random state 21,the training accuracy is :- 0.5282374386521007\n",
      "At random state21,the testing accuracy is :- 0.5094945137474456\n",
      "\n",
      "\n",
      "At random state 22,the training accuracy is :- 0.5286927433395894\n",
      "At random state22,the testing accuracy is :- 0.5087034636944212\n",
      "\n",
      "\n",
      "At random state 23,the training accuracy is :- 0.5297920779440408\n",
      "At random state23,the testing accuracy is :- 0.5049006805913725\n",
      "\n",
      "\n",
      "At random state 24,the training accuracy is :- 0.5289631341790352\n",
      "At random state24,the testing accuracy is :- 0.5050111564583475\n",
      "\n",
      "\n",
      "At random state 25,the training accuracy is :- 0.5332454849783359\n",
      "At random state25,the testing accuracy is :- 0.483178344044189\n",
      "\n",
      "\n",
      "At random state 26,the training accuracy is :- 0.5314539891082776\n",
      "At random state26,the testing accuracy is :- 0.4989222508401564\n",
      "\n",
      "\n",
      "At random state 27,the training accuracy is :- 0.522070814154647\n",
      "At random state27,the testing accuracy is :- 0.5352093462463405\n",
      "\n",
      "\n",
      "At random state 28,the training accuracy is :- 0.5181848551209691\n",
      "At random state28,the testing accuracy is :- 0.551526213667533\n",
      "\n",
      "\n",
      "At random state 29,the training accuracy is :- 0.5278827353440929\n",
      "At random state29,the testing accuracy is :- 0.5128644384657634\n",
      "\n",
      "\n",
      "At random state 30,the training accuracy is :- 0.5189412015845649\n",
      "At random state30,the testing accuracy is :- 0.5453262237350274\n",
      "\n",
      "\n",
      "At random state 31,the training accuracy is :- 0.5218957384882634\n",
      "At random state31,the testing accuracy is :- 0.531636542167101\n",
      "\n",
      "\n",
      "At random state 32,the training accuracy is :- 0.532934951482342\n",
      "At random state32,the testing accuracy is :- 0.4892909654676182\n",
      "\n",
      "\n",
      "At random state 33,the training accuracy is :- 0.5301042047908721\n",
      "At random state33,the testing accuracy is :- 0.49640848671383897\n",
      "\n",
      "\n",
      "At random state 34,the training accuracy is :- 0.5294722896091358\n",
      "At random state34,the testing accuracy is :- 0.5006956144101846\n",
      "\n",
      "\n",
      "At random state 35,the training accuracy is :- 0.5280047645892918\n",
      "At random state35,the testing accuracy is :- 0.5077051744189504\n",
      "\n",
      "\n",
      "At random state 36,the training accuracy is :- 0.5229275556509712\n",
      "At random state36,the testing accuracy is :- 0.5303503789435975\n",
      "\n",
      "\n",
      "At random state 37,the training accuracy is :- 0.5184322139809538\n",
      "At random state37,the testing accuracy is :- 0.5496770645301605\n",
      "\n",
      "\n",
      "At random state 38,the training accuracy is :- 0.521936774041668\n",
      "At random state38,the testing accuracy is :- 0.5311859576887237\n",
      "\n",
      "\n",
      "At random state 39,the training accuracy is :- 0.5198363495084801\n",
      "At random state39,the testing accuracy is :- 0.5461478901183183\n",
      "\n",
      "\n",
      "At random state 40,the training accuracy is :- 0.5347054051722333\n",
      "At random state40,the testing accuracy is :- 0.4849118655484542\n",
      "\n",
      "\n",
      "At random state 41,the training accuracy is :- 0.5260608607336785\n",
      "At random state41,the testing accuracy is :- 0.5181969864404369\n",
      "\n",
      "\n",
      "At random state 42,the training accuracy is :- 0.5327923261392642\n",
      "At random state42,the testing accuracy is :- 0.49112329336753\n",
      "\n",
      "\n",
      "At random state 43,the training accuracy is :- 0.5186294709000696\n",
      "At random state43,the testing accuracy is :- 0.5475097327188369\n",
      "\n",
      "\n",
      "At random state 44,the training accuracy is :- 0.5259933687463314\n",
      "At random state44,the testing accuracy is :- 0.513898742799527\n",
      "\n",
      "\n",
      "At random state 45,the training accuracy is :- 0.5295954122955351\n",
      "At random state45,the testing accuracy is :- 0.5045927612407669\n",
      "\n",
      "\n",
      "At random state 46,the training accuracy is :- 0.5249349617527779\n",
      "At random state46,the testing accuracy is :- 0.5153994192594293\n",
      "\n",
      "\n",
      "At random state 47,the training accuracy is :- 0.5269628368732292\n",
      "At random state47,the testing accuracy is :- 0.5132629190841025\n",
      "\n",
      "\n",
      "At random state 48,the training accuracy is :- 0.522522800881436\n",
      "At random state48,the testing accuracy is :- 0.5338491833812787\n",
      "\n",
      "\n",
      "At random state 49,the training accuracy is :- 0.5296510679750441\n",
      "At random state49,the testing accuracy is :- 0.49938970213446876\n",
      "\n",
      "\n",
      "At random state 50,the training accuracy is :- 0.5243109966211335\n",
      "At random state50,the testing accuracy is :- 0.5245298217453065\n",
      "\n",
      "\n",
      "At random state 51,the training accuracy is :- 0.5221039755281451\n",
      "At random state51,the testing accuracy is :- 0.5344299648513575\n",
      "\n",
      "\n",
      "At random state 52,the training accuracy is :- 0.5171176661739041\n",
      "At random state52,the testing accuracy is :- 0.5554398893495888\n",
      "\n",
      "\n",
      "At random state 53,the training accuracy is :- 0.52350323280996\n",
      "At random state53,the testing accuracy is :- 0.5274092085640311\n",
      "\n",
      "\n",
      "At random state 54,the training accuracy is :- 0.5334797777853691\n",
      "At random state54,the testing accuracy is :- 0.48161177345059314\n",
      "\n",
      "\n",
      "At random state 55,the training accuracy is :- 0.5257303503457342\n",
      "At random state55,the testing accuracy is :- 0.5197443375632713\n",
      "\n",
      "\n",
      "At random state 56,the training accuracy is :- 0.5210203143082077\n",
      "At random state56,the testing accuracy is :- 0.5333078177251289\n",
      "\n",
      "\n",
      "At random state 57,the training accuracy is :- 0.5239636601514401\n",
      "At random state57,the testing accuracy is :- 0.5266218300630585\n",
      "\n",
      "\n",
      "At random state 58,the training accuracy is :- 0.5276559328728307\n",
      "At random state58,the testing accuracy is :- 0.5033561377106595\n",
      "\n",
      "\n",
      "At random state 59,the training accuracy is :- 0.5282154850811962\n",
      "At random state59,the testing accuracy is :- 0.5087150979116932\n",
      "\n",
      "\n",
      "At random state 60,the training accuracy is :- 0.524816043675701\n",
      "At random state60,the testing accuracy is :- 0.5254618705639599\n",
      "\n",
      "\n",
      "At random state 61,the training accuracy is :- 0.5214589151418922\n",
      "At random state61,the testing accuracy is :- 0.5357354638861263\n",
      "\n",
      "\n",
      "At random state 62,the training accuracy is :- 0.5208010512255663\n",
      "At random state62,the testing accuracy is :- 0.5405540041609382\n",
      "\n",
      "\n",
      "At random state 63,the training accuracy is :- 0.5214381281935769\n",
      "At random state63,the testing accuracy is :- 0.5386783838914995\n",
      "\n",
      "\n",
      "At random state 64,the training accuracy is :- 0.5272216072355889\n",
      "At random state64,the testing accuracy is :- 0.5079921386607775\n",
      "\n",
      "\n",
      "At random state 65,the training accuracy is :- 0.5251762044879105\n",
      "At random state65,the testing accuracy is :- 0.5216991982702393\n",
      "\n",
      "\n",
      "At random state 66,the training accuracy is :- 0.5296339151146618\n",
      "At random state66,the testing accuracy is :- 0.5042028434765017\n",
      "\n",
      "\n",
      "At random state 67,the training accuracy is :- 0.5276301415986018\n",
      "At random state67,the testing accuracy is :- 0.5111017812811887\n",
      "\n",
      "\n",
      "At random state 68,the training accuracy is :- 0.5313915499870823\n",
      "At random state68,the testing accuracy is :- 0.4931113859345808\n",
      "\n",
      "\n",
      "At random state 69,the training accuracy is :- 0.5237752687138649\n",
      "At random state69,the testing accuracy is :- 0.5244571890758725\n",
      "\n",
      "\n",
      "At random state 70,the training accuracy is :- 0.5257720422737313\n",
      "At random state70,the testing accuracy is :- 0.5208295814738396\n",
      "\n",
      "\n",
      "At random state 71,the training accuracy is :- 0.5278756641709377\n",
      "At random state71,the testing accuracy is :- 0.5114859764928327\n",
      "\n",
      "\n",
      "At random state 72,the training accuracy is :- 0.5258947819469149\n",
      "At random state72,the testing accuracy is :- 0.5149230669973026\n",
      "\n",
      "\n",
      "At random state 73,the training accuracy is :- 0.5250100328117753\n",
      "At random state73,the testing accuracy is :- 0.5234526928430823\n",
      "\n",
      "\n",
      "At random state 74,the training accuracy is :- 0.529921379201453\n",
      "At random state74,the testing accuracy is :- 0.505208860787949\n",
      "\n",
      "\n",
      "At random state 75,the training accuracy is :- 0.5228656366631956\n",
      "At random state75,the testing accuracy is :- 0.5339301056387996\n",
      "\n",
      "\n",
      "At random state 76,the training accuracy is :- 0.5275629720834065\n",
      "At random state76,the testing accuracy is :- 0.5061584524922987\n",
      "\n",
      "\n"
     ]
    },
    {
     "name": "stdout",
     "output_type": "stream",
     "text": [
      "At random state 77,the training accuracy is :- 0.5216528392695354\n",
      "At random state77,the testing accuracy is :- 0.5344955781740934\n",
      "\n",
      "\n",
      "At random state 78,the training accuracy is :- 0.5311240908369352\n",
      "At random state78,the testing accuracy is :- 0.4917858130077972\n",
      "\n",
      "\n",
      "At random state 79,the training accuracy is :- 0.5243893966056368\n",
      "At random state79,the testing accuracy is :- 0.5222195980198051\n",
      "\n",
      "\n",
      "At random state 80,the training accuracy is :- 0.5289878087058041\n",
      "At random state80,the testing accuracy is :- 0.5042074906094178\n",
      "\n",
      "\n",
      "At random state 81,the training accuracy is :- 0.5183960828965866\n",
      "At random state81,the testing accuracy is :- 0.5491625249600971\n",
      "\n",
      "\n",
      "At random state 82,the training accuracy is :- 0.5163654060107907\n",
      "At random state82,the testing accuracy is :- 0.5563585025080757\n",
      "\n",
      "\n",
      "At random state 83,the training accuracy is :- 0.5288763050803913\n",
      "At random state83,the testing accuracy is :- 0.5013576411246\n",
      "\n",
      "\n",
      "At random state 84,the training accuracy is :- 0.5285210887321395\n",
      "At random state84,the testing accuracy is :- 0.5093237465872044\n",
      "\n",
      "\n",
      "At random state 85,the training accuracy is :- 0.5282620717237172\n",
      "At random state85,the testing accuracy is :- 0.5098615173660873\n",
      "\n",
      "\n",
      "At random state 86,the training accuracy is :- 0.5320589939473199\n",
      "At random state86,the testing accuracy is :- 0.49111489101334793\n",
      "\n",
      "\n",
      "At random state 87,the training accuracy is :- 0.5305844564643881\n",
      "At random state87,the testing accuracy is :- 0.4964105858376664\n",
      "\n",
      "\n",
      "At random state 88,the training accuracy is :- 0.5151042929128479\n",
      "At random state88,the testing accuracy is :- 0.5619393141938724\n",
      "\n",
      "\n",
      "At random state 89,the training accuracy is :- 0.5178504016656307\n",
      "At random state89,the testing accuracy is :- 0.5528010652558428\n",
      "\n",
      "\n",
      "At random state 90,the training accuracy is :- 0.5286325961141096\n",
      "At random state90,the testing accuracy is :- 0.5087337373998454\n",
      "\n",
      "\n",
      "At random state 91,the training accuracy is :- 0.5305507817257612\n",
      "At random state91,the testing accuracy is :- 0.49662868922570047\n",
      "\n",
      "\n",
      "At random state 92,the training accuracy is :- 0.539145775103274\n",
      "At random state92,the testing accuracy is :- 0.4621941789390964\n",
      "\n",
      "\n",
      "At random state 93,the training accuracy is :- 0.5204711851245607\n",
      "At random state93,the testing accuracy is :- 0.541500009994865\n",
      "\n",
      "\n",
      "At random state 94,the training accuracy is :- 0.5247671073823694\n",
      "At random state94,the testing accuracy is :- 0.5228869221698114\n",
      "\n",
      "\n",
      "At random state 95,the training accuracy is :- 0.5238242456303855\n",
      "At random state95,the testing accuracy is :- 0.5285182936779012\n",
      "\n",
      "\n",
      "At random state 96,the training accuracy is :- 0.527355531615985\n",
      "At random state96,the testing accuracy is :- 0.5097202526852757\n",
      "\n",
      "\n",
      "At random state 97,the training accuracy is :- 0.5230386752879226\n",
      "At random state97,the testing accuracy is :- 0.5327850293003307\n",
      "\n",
      "\n",
      "At random state 98,the training accuracy is :- 0.5341166483650788\n",
      "At random state98,the testing accuracy is :- 0.48814515478839915\n",
      "\n",
      "\n",
      "At random state 99,the training accuracy is :- 0.5247135579233109\n",
      "At random state99,the testing accuracy is :- 0.5257853852910326\n",
      "\n",
      "\n"
     ]
    }
   ],
   "source": [
    "for i in range (0,100):\n",
    "    x_train,x_test,y_train,y_test=train_test_split(x,y,test_size=0.2,random_state=i)\n",
    "    lr.fit(x_train,y_train)\n",
    "    pred_train=lr.predict(x_train)\n",
    "    pred_test=lr.predict(x_test)\n",
    "    print(f\"At random state {i},the training accuracy is :- {r2_score(y_train,pred_train)}\")\n",
    "    print(f\"At random state{i},the testing accuracy is :- {r2_score(y_test,pred_test)}\")\n",
    "    print(\"\\n\")"
   ]
  },
  {
   "cell_type": "markdown",
   "metadata": {},
   "source": [
    "Now also same as before accuracy"
   ]
  },
  {
   "cell_type": "code",
   "execution_count": 424,
   "metadata": {},
   "outputs": [],
   "source": [
    "x_train,x_test,y_train,y_test=train_test_split(x,y,test_size=0.2,random_state=12)"
   ]
  },
  {
   "cell_type": "code",
   "execution_count": 425,
   "metadata": {},
   "outputs": [
    {
     "data": {
      "text/plain": [
       "LinearRegression()"
      ]
     },
     "execution_count": 425,
     "metadata": {},
     "output_type": "execute_result"
    }
   ],
   "source": [
    "lr.fit(x_train,y_train)"
   ]
  },
  {
   "cell_type": "code",
   "execution_count": 426,
   "metadata": {},
   "outputs": [],
   "source": [
    "pred_test=lr.predict(x_test)"
   ]
  },
  {
   "cell_type": "code",
   "execution_count": 427,
   "metadata": {},
   "outputs": [
    {
     "name": "stdout",
     "output_type": "stream",
     "text": [
      "0.5651657724463084\n"
     ]
    }
   ],
   "source": [
    "print(r2_score(y_test,pred_test))"
   ]
  },
  {
   "cell_type": "code",
   "execution_count": 428,
   "metadata": {},
   "outputs": [
    {
     "name": "stdout",
     "output_type": "stream",
     "text": [
      "0.44118073668861446\n"
     ]
    }
   ],
   "source": [
    "svr=SVR()\n",
    "svr.fit(x_train,y_train)\n",
    "pred_test=svr.predict(x_test)\n",
    "print(r2_score(y_test,pred_test))"
   ]
  },
  {
   "cell_type": "code",
   "execution_count": 429,
   "metadata": {},
   "outputs": [
    {
     "name": "stdout",
     "output_type": "stream",
     "text": [
      "0.5992482649959701\n"
     ]
    }
   ],
   "source": [
    "rfr=RandomForestRegressor()\n",
    "rfr.fit(x_train,y_train)\n",
    "pred_test=rfr.predict(x_test)\n",
    "print(r2_score(y_test,pred_test))"
   ]
  },
  {
   "cell_type": "code",
   "execution_count": 430,
   "metadata": {},
   "outputs": [
    {
     "name": "stdout",
     "output_type": "stream",
     "text": [
      "0.5341712529656919\n"
     ]
    }
   ],
   "source": [
    "knr=KNeighborsRegressor()\n",
    "knr.fit(x_train,y_train)\n",
    "pred_test=knr.predict(x_test)\n",
    "print(r2_score(y_test,pred_test))"
   ]
  },
  {
   "cell_type": "markdown",
   "metadata": {},
   "source": [
    "# Lets check cross validation "
   ]
  },
  {
   "cell_type": "code",
   "execution_count": 431,
   "metadata": {},
   "outputs": [
    {
     "name": "stdout",
     "output_type": "stream",
     "text": [
      "cross validation score of lr model: 0.4992008084520079\n"
     ]
    }
   ],
   "source": [
    "scr = cross_val_score(lr,x,y,cv=3,scoring='r2')\n",
    "print(\"cross validation score of lr model:\",scr.mean())"
   ]
  },
  {
   "cell_type": "markdown",
   "metadata": {},
   "source": [
    "r2_score is 56 & cross validation is 49.there slight differents but no overfitting"
   ]
  },
  {
   "cell_type": "code",
   "execution_count": 432,
   "metadata": {},
   "outputs": [
    {
     "name": "stdout",
     "output_type": "stream",
     "text": [
      "cross validation score of svr model: 0.3880256544097886\n"
     ]
    }
   ],
   "source": [
    "scr = cross_val_score(svr,x,y,cv=3,scoring='r2')\n",
    "print(\"cross validation score of svr model:\",scr.mean())"
   ]
  },
  {
   "cell_type": "markdown",
   "metadata": {},
   "source": [
    "r2_score is 44 & cross validation 38"
   ]
  },
  {
   "cell_type": "code",
   "execution_count": 433,
   "metadata": {},
   "outputs": [
    {
     "name": "stdout",
     "output_type": "stream",
     "text": [
      "cross validation score of rfr model: 0.51426103347898\n"
     ]
    }
   ],
   "source": [
    "scr = cross_val_score(rfr,x,y,cv=3,scoring='r2')\n",
    "print(\"cross validation score of rfr model:\",scr.mean())"
   ]
  },
  {
   "cell_type": "markdown",
   "metadata": {},
   "source": [
    "r2 score is 59 & cross validation 51"
   ]
  },
  {
   "cell_type": "code",
   "execution_count": 434,
   "metadata": {},
   "outputs": [
    {
     "name": "stdout",
     "output_type": "stream",
     "text": [
      "cross validation score of knr model: 0.4547289240146413\n"
     ]
    }
   ],
   "source": [
    "scr = cross_val_score(knr,x,y,cv=3,scoring='r2')\n",
    "print(\"cross validation score of knr model:\",scr.mean())"
   ]
  },
  {
   "cell_type": "markdown",
   "metadata": {},
   "source": [
    "r2 score 53 & cross validation 45"
   ]
  },
  {
   "cell_type": "markdown",
   "metadata": {},
   "source": [
    "Here we can conclude that SVR is the best model"
   ]
  },
  {
   "cell_type": "markdown",
   "metadata": {},
   "source": [
    "# Hyper parameter tuning"
   ]
  },
  {
   "cell_type": "code",
   "execution_count": 438,
   "metadata": {},
   "outputs": [],
   "source": [
    "parameter ={\"degree\":np.arange(0,10),\n",
    "           \"gamma\":[\"scale\",\"auto\"]}"
   ]
  },
  {
   "cell_type": "code",
   "execution_count": 439,
   "metadata": {},
   "outputs": [],
   "source": [
    "gcv=GridSearchCV(svr,parameter,cv=3)"
   ]
  },
  {
   "cell_type": "code",
   "execution_count": 440,
   "metadata": {},
   "outputs": [
    {
     "data": {
      "text/plain": [
       "GridSearchCV(cv=3, estimator=SVR(),\n",
       "             param_grid={'degree': array([0, 1, 2, 3, 4, 5, 6, 7, 8, 9]),\n",
       "                         'gamma': ['scale', 'auto']})"
      ]
     },
     "execution_count": 440,
     "metadata": {},
     "output_type": "execute_result"
    }
   ],
   "source": [
    "gcv.fit(x_train,y_train)"
   ]
  },
  {
   "cell_type": "code",
   "execution_count": 441,
   "metadata": {},
   "outputs": [
    {
     "data": {
      "text/plain": [
       "{'degree': 0, 'gamma': 'scale'}"
      ]
     },
     "execution_count": 441,
     "metadata": {},
     "output_type": "execute_result"
    }
   ],
   "source": [
    "gcv.best_params_"
   ]
  },
  {
   "cell_type": "code",
   "execution_count": 443,
   "metadata": {},
   "outputs": [
    {
     "name": "stdout",
     "output_type": "stream",
     "text": [
      "44.11807366886145\n"
     ]
    }
   ],
   "source": [
    "final_mod =SVR(degree=0,gamma=\"scale\")\n",
    "final_mod.fit(x_train,y_train)\n",
    "pred=final_mod.predict(x_test)\n",
    "acc=r2_score(y_test,pred)\n",
    "print(acc*100)"
   ]
  },
  {
   "cell_type": "markdown",
   "metadata": {},
   "source": [
    "cross validation score is 38 now it will increase to 44."
   ]
  },
  {
   "cell_type": "markdown",
   "metadata": {},
   "source": [
    "# saving the model"
   ]
  },
  {
   "cell_type": "code",
   "execution_count": 444,
   "metadata": {},
   "outputs": [
    {
     "data": {
      "text/plain": [
       "['abalone.pkl']"
      ]
     },
     "execution_count": 444,
     "metadata": {},
     "output_type": "execute_result"
    }
   ],
   "source": [
    "import joblib\n",
    "joblib.dump(final_mod,\"abalone.pkl\")"
   ]
  },
  {
   "cell_type": "code",
   "execution_count": null,
   "metadata": {},
   "outputs": [],
   "source": []
  },
  {
   "cell_type": "code",
   "execution_count": null,
   "metadata": {},
   "outputs": [],
   "source": []
  }
 ],
 "metadata": {
  "kernelspec": {
   "display_name": "Python 3",
   "language": "python",
   "name": "python3"
  },
  "language_info": {
   "codemirror_mode": {
    "name": "ipython",
    "version": 3
   },
   "file_extension": ".py",
   "mimetype": "text/x-python",
   "name": "python",
   "nbconvert_exporter": "python",
   "pygments_lexer": "ipython3",
   "version": "3.8.5"
  }
 },
 "nbformat": 4,
 "nbformat_minor": 4
}
